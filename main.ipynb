{
 "cells": [
  {
   "cell_type": "code",
   "execution_count": 1,
   "id": "b3d99e54",
   "metadata": {},
   "outputs": [],
   "source": [
    "import yfinance as yf\n",
    "from prophet import Prophet\n",
    "import pandas as pd\n",
    "import matplotlib.pyplot as plt"
   ]
  },
  {
   "cell_type": "code",
   "execution_count": null,
   "id": "6aafab6e",
   "metadata": {},
   "outputs": [],
   "source": [
    "df = yf.download('ETH-USD', start='2022-1-1', end='2022-1-31')\n",
    "data = df"
   ]
  },
  {
   "cell_type": "code",
   "execution_count": null,
   "id": "5ae889e6",
   "metadata": {},
   "outputs": [],
   "source": [
    "df.reset_index(inplace=True)\n",
    "df.drop('Open', inplace=True, axis=1)\n",
    "df.drop('High', inplace=True, axis=1)\n",
    "df.drop('Low', inplace=True, axis=1)\n",
    "df.drop('Adj Close', inplace=True, axis=1)\n",
    "df.drop('Volume', inplace=True, axis=1)"
   ]
  },
  {
   "cell_type": "code",
   "execution_count": null,
   "id": "c036ebb9",
   "metadata": {},
   "outputs": [],
   "source": [
    "df['Date'] = [d.date() for d in df['Date']]\n",
    "df[\"day\"] = df['Date'].map(lambda x: x.day)\n",
    "df[\"month\"] = df['Date'].map(lambda x: x.month)\n",
    "df[\"year\"] = df['Date'].map(lambda x: x.year)"
   ]
  },
  {
   "cell_type": "code",
   "execution_count": null,
   "id": "dd39f439",
   "metadata": {},
   "outputs": [],
   "source": [
    "df.drop(['day', 'month', 'year'], axis=1, inplace=True) #not used in this particular project\n",
    "df.columns = ['ds', 'y']"
   ]
  },
  {
   "cell_type": "code",
   "execution_count": null,
   "id": "9dd8e6f8",
   "metadata": {},
   "outputs": [],
   "source": [
    "m = Prophet(interval_width=0.95, daily_seasonality=True)\n",
    "model = m.fit(df)"
   ]
  },
  {
   "cell_type": "code",
   "execution_count": null,
   "id": "f6c112f9",
   "metadata": {},
   "outputs": [],
   "source": [
    "future = m.make_future_dataframe(periods=100, freq='D')\n",
    "forecast = m.predict(future)"
   ]
  },
  {
   "cell_type": "code",
   "execution_count": null,
   "id": "15113eeb",
   "metadata": {},
   "outputs": [],
   "source": [
    "plot1 = m.plot(forecast)"
   ]
  },
  {
   "cell_type": "code",
   "execution_count": null,
   "id": "aebe3025",
   "metadata": {},
   "outputs": [],
   "source": [
    "plot2 = m.plot_components(forecast)"
   ]
  },
  {
   "cell_type": "code",
   "execution_count": null,
   "id": "d42a424b",
   "metadata": {},
   "outputs": [],
   "source": []
  }
 ],
 "metadata": {
  "kernelspec": {
   "display_name": "Python 3 (ipykernel)",
   "language": "python",
   "name": "python3"
  },
  "language_info": {
   "codemirror_mode": {
    "name": "ipython",
    "version": 3
   },
   "file_extension": ".py",
   "mimetype": "text/x-python",
   "name": "python",
   "nbconvert_exporter": "python",
   "pygments_lexer": "ipython3",
   "version": "3.7.13"
  }
 },
 "nbformat": 4,
 "nbformat_minor": 5
}
